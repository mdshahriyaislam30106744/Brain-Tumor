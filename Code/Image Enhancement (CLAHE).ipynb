{
 "cells": [
  {
   "cell_type": "code",
   "execution_count": 10,
   "id": "d3218664-0408-4034-a427-72dc55f11371",
   "metadata": {},
   "outputs": [
    {
     "name": "stdout",
     "output_type": "stream",
     "text": [
      "CLAHE applied to all images in the folder.\n"
     ]
    }
   ],
   "source": [
    "import cv2\n",
    "import os\n",
    "\n",
    "# Define the folder paths\n",
    "input_folder = 'C:/Users/rafi/Downloads/archive/data/glioma'\n",
    "output_folder = 'C:/Users/rafi/Downloads/archive/processed/glioma'\n",
    "\n",
    "# Create the output folder if it doesn't exist\n",
    "if not os.path.exists(output_folder):\n",
    "    os.makedirs(output_folder)\n",
    "\n",
    "# Create a CLAHE object with desired parameters\n",
    "clahe = cv2.createCLAHE(clipLimit=2.0, tileGridSize=(8, 8))\n",
    "\n",
    "# Process each image in the folder\n",
    "for filename in os.listdir(input_folder):\n",
    "    if filename.endswith('.jpg') or filename.endswith('.png'):\n",
    "        # Read the image\n",
    "        img_path = os.path.join(input_folder, filename)\n",
    "        img = cv2.imread(img_path, cv2.IMREAD_COLOR)\n",
    "\n",
    "        # Convert to YUV color space\n",
    "        yuv_img = cv2.cvtColor(img, cv2.COLOR_BGR2YUV)\n",
    "\n",
    "        # Apply CLAHE to the Y channel\n",
    "        yuv_img[:, :, 0] = clahe.apply(yuv_img[:, :, 0])\n",
    "\n",
    "        # Convert back to BGR color space\n",
    "        result_img = cv2.cvtColor(yuv_img, cv2.COLOR_YUV2BGR)\n",
    "\n",
    "        # Save the processed image to the output folder\n",
    "        output_path = os.path.join(output_folder, filename)\n",
    "        cv2.imwrite(output_path, result_img)\n",
    "\n",
    "print('CLAHE applied to all images in the folder.')\n"
   ]
  },
  {
   "cell_type": "code",
   "execution_count": null,
   "id": "30b05ead-e153-4ac0-8587-50842ac61a44",
   "metadata": {},
   "outputs": [],
   "source": []
  }
 ],
 "metadata": {
  "kernelspec": {
   "display_name": "Python 3 (ipykernel)",
   "language": "python",
   "name": "python3"
  },
  "language_info": {
   "codemirror_mode": {
    "name": "ipython",
    "version": 3
   },
   "file_extension": ".py",
   "mimetype": "text/x-python",
   "name": "python",
   "nbconvert_exporter": "python",
   "pygments_lexer": "ipython3",
   "version": "3.11.5"
  }
 },
 "nbformat": 4,
 "nbformat_minor": 5
}
